{
 "cells": [
  {
   "cell_type": "code",
   "execution_count": 5,
   "id": "7d959229",
   "metadata": {},
   "outputs": [],
   "source": [
    "from crossfilter.inference import run_umap\n",
    "from crossfilter.inference import run_umap_test\n",
    "import plotly.express as px"
   ]
  },
  {
   "cell_type": "code",
   "execution_count": 2,
   "id": "e32edcc1",
   "metadata": {},
   "outputs": [
    {
     "data": {
      "text/html": [
       "<div>\n",
       "<style scoped>\n",
       "    .dataframe tbody tr th:only-of-type {\n",
       "        vertical-align: middle;\n",
       "    }\n",
       "\n",
       "    .dataframe tbody tr th {\n",
       "        vertical-align: top;\n",
       "    }\n",
       "\n",
       "    .dataframe thead th {\n",
       "        text-align: right;\n",
       "    }\n",
       "</style>\n",
       "<table border=\"1\" class=\"dataframe\">\n",
       "  <thead>\n",
       "    <tr style=\"text-align: right;\">\n",
       "      <th></th>\n",
       "      <th>UMAP_STRING</th>\n",
       "      <th>SIGLIP2_EMBEDDING</th>\n",
       "      <th>TRUE_CLASS</th>\n",
       "    </tr>\n",
       "  </thead>\n",
       "  <tbody>\n",
       "    <tr>\n",
       "      <th>0</th>\n",
       "      <td>sample_000</td>\n",
       "      <td>[0.6795859780036209, -0.004584270416856178, 0....</td>\n",
       "      <td>0</td>\n",
       "    </tr>\n",
       "    <tr>\n",
       "      <th>1</th>\n",
       "      <td>sample_001</td>\n",
       "      <td>[-0.008174736839000343, 0.6531781478232194, -0...</td>\n",
       "      <td>1</td>\n",
       "    </tr>\n",
       "    <tr>\n",
       "      <th>2</th>\n",
       "      <td>sample_002</td>\n",
       "      <td>[0.05664860337674388, 0.014307675162646563, 0....</td>\n",
       "      <td>2</td>\n",
       "    </tr>\n",
       "    <tr>\n",
       "      <th>3</th>\n",
       "      <td>sample_003</td>\n",
       "      <td>[0.6755409050941726, -0.017542567150579468, -0...</td>\n",
       "      <td>0</td>\n",
       "    </tr>\n",
       "    <tr>\n",
       "      <th>4</th>\n",
       "      <td>sample_004</td>\n",
       "      <td>[-0.010970589331781846, 0.6743454796950383, 0....</td>\n",
       "      <td>1</td>\n",
       "    </tr>\n",
       "    <tr>\n",
       "      <th>...</th>\n",
       "      <td>...</td>\n",
       "      <td>...</td>\n",
       "      <td>...</td>\n",
       "    </tr>\n",
       "    <tr>\n",
       "      <th>95</th>\n",
       "      <td>sample_095</td>\n",
       "      <td>[0.016509760311369505, 0.07018766869585488, 0....</td>\n",
       "      <td>2</td>\n",
       "    </tr>\n",
       "    <tr>\n",
       "      <th>96</th>\n",
       "      <td>sample_096</td>\n",
       "      <td>[0.6509184997842212, 0.05319906867220145, 0.09...</td>\n",
       "      <td>0</td>\n",
       "    </tr>\n",
       "    <tr>\n",
       "      <th>97</th>\n",
       "      <td>sample_097</td>\n",
       "      <td>[-0.0033778699452754963, 0.6728101139771316, -...</td>\n",
       "      <td>1</td>\n",
       "    </tr>\n",
       "    <tr>\n",
       "      <th>98</th>\n",
       "      <td>sample_098</td>\n",
       "      <td>None</td>\n",
       "      <td>2</td>\n",
       "    </tr>\n",
       "    <tr>\n",
       "      <th>99</th>\n",
       "      <td>sample_099</td>\n",
       "      <td>[0.6432390160611176, 0.01306733553828426, 0.07...</td>\n",
       "      <td>0</td>\n",
       "    </tr>\n",
       "  </tbody>\n",
       "</table>\n",
       "<p>100 rows × 3 columns</p>\n",
       "</div>"
      ],
      "text/plain": [
       "   UMAP_STRING                                  SIGLIP2_EMBEDDING  TRUE_CLASS\n",
       "0   sample_000  [0.6795859780036209, -0.004584270416856178, 0....           0\n",
       "1   sample_001  [-0.008174736839000343, 0.6531781478232194, -0...           1\n",
       "2   sample_002  [0.05664860337674388, 0.014307675162646563, 0....           2\n",
       "3   sample_003  [0.6755409050941726, -0.017542567150579468, -0...           0\n",
       "4   sample_004  [-0.010970589331781846, 0.6743454796950383, 0....           1\n",
       "..         ...                                                ...         ...\n",
       "95  sample_095  [0.016509760311369505, 0.07018766869585488, 0....           2\n",
       "96  sample_096  [0.6509184997842212, 0.05319906867220145, 0.09...           0\n",
       "97  sample_097  [-0.0033778699452754963, 0.6728101139771316, -...           1\n",
       "98  sample_098                                               None           2\n",
       "99  sample_099  [0.6432390160611176, 0.01306733553828426, 0.07...           0\n",
       "\n",
       "[100 rows x 3 columns]"
      ]
     },
     "execution_count": 2,
     "metadata": {},
     "output_type": "execute_result"
    }
   ],
   "source": [
    "e = run_umap_test._generate_test_embeddings()\n",
    "e"
   ]
  },
  {
   "cell_type": "code",
   "execution_count": 3,
   "id": "a5f55e83",
   "metadata": {},
   "outputs": [
    {
     "name": "stderr",
     "output_type": "stream",
     "text": [
      "/Users/thad/Imbue Dropbox/Thad Hughes/src/gpx-view-and-edit.sculptor/.venv/lib/python3.11/site-packages/umap/umap_.py:1952: UserWarning: n_jobs value 1 overridden to 1 by setting random_state. Use no seed for parallelism.\n",
      "  warn(\n"
     ]
    }
   ],
   "source": [
    "sphere_mapper = run_umap.run_umap_projection(e)\n"
   ]
  },
  {
   "cell_type": "code",
   "execution_count": 4,
   "id": "0c96aaef",
   "metadata": {},
   "outputs": [
    {
     "data": {
      "text/html": [
       "<div>\n",
       "<style scoped>\n",
       "    .dataframe tbody tr th:only-of-type {\n",
       "        vertical-align: middle;\n",
       "    }\n",
       "\n",
       "    .dataframe tbody tr th {\n",
       "        vertical-align: top;\n",
       "    }\n",
       "\n",
       "    .dataframe thead th {\n",
       "        text-align: right;\n",
       "    }\n",
       "</style>\n",
       "<table border=\"1\" class=\"dataframe\">\n",
       "  <thead>\n",
       "    <tr style=\"text-align: right;\">\n",
       "      <th></th>\n",
       "      <th>UMAP_STRING</th>\n",
       "      <th>SIGLIP2_EMBEDDING</th>\n",
       "      <th>TRUE_CLASS</th>\n",
       "      <th>SIGLIP2_UMAP2D_HAVERSINE_LATITUDE</th>\n",
       "      <th>SIGLIP2_UMAP2D_HAVERSINE_LONGITUDE</th>\n",
       "    </tr>\n",
       "  </thead>\n",
       "  <tbody>\n",
       "    <tr>\n",
       "      <th>0</th>\n",
       "      <td>sample_000</td>\n",
       "      <td>[0.6795859780036209, -0.004584270416856178, 0....</td>\n",
       "      <td>0</td>\n",
       "      <td>102.929932</td>\n",
       "      <td>-163.864410</td>\n",
       "    </tr>\n",
       "    <tr>\n",
       "      <th>1</th>\n",
       "      <td>sample_001</td>\n",
       "      <td>[-0.008174736839000343, 0.6531781478232194, -0...</td>\n",
       "      <td>1</td>\n",
       "      <td>-53.923054</td>\n",
       "      <td>-88.695717</td>\n",
       "    </tr>\n",
       "    <tr>\n",
       "      <th>2</th>\n",
       "      <td>sample_002</td>\n",
       "      <td>[0.05664860337674388, 0.014307675162646563, 0....</td>\n",
       "      <td>2</td>\n",
       "      <td>25.299929</td>\n",
       "      <td>-34.922928</td>\n",
       "    </tr>\n",
       "    <tr>\n",
       "      <th>3</th>\n",
       "      <td>sample_003</td>\n",
       "      <td>[0.6755409050941726, -0.017542567150579468, -0...</td>\n",
       "      <td>0</td>\n",
       "      <td>105.720787</td>\n",
       "      <td>-146.427612</td>\n",
       "    </tr>\n",
       "    <tr>\n",
       "      <th>4</th>\n",
       "      <td>sample_004</td>\n",
       "      <td>[-0.010970589331781846, 0.6743454796950383, 0....</td>\n",
       "      <td>1</td>\n",
       "      <td>-107.524231</td>\n",
       "      <td>-67.005424</td>\n",
       "    </tr>\n",
       "    <tr>\n",
       "      <th>...</th>\n",
       "      <td>...</td>\n",
       "      <td>...</td>\n",
       "      <td>...</td>\n",
       "      <td>...</td>\n",
       "      <td>...</td>\n",
       "    </tr>\n",
       "    <tr>\n",
       "      <th>95</th>\n",
       "      <td>sample_095</td>\n",
       "      <td>[0.016509760311369505, 0.07018766869585488, 0....</td>\n",
       "      <td>2</td>\n",
       "      <td>69.194824</td>\n",
       "      <td>-60.390358</td>\n",
       "    </tr>\n",
       "    <tr>\n",
       "      <th>96</th>\n",
       "      <td>sample_096</td>\n",
       "      <td>[0.6509184997842212, 0.05319906867220145, 0.09...</td>\n",
       "      <td>0</td>\n",
       "      <td>89.433876</td>\n",
       "      <td>-135.100739</td>\n",
       "    </tr>\n",
       "    <tr>\n",
       "      <th>97</th>\n",
       "      <td>sample_097</td>\n",
       "      <td>[-0.0033778699452754963, 0.6728101139771316, -...</td>\n",
       "      <td>1</td>\n",
       "      <td>-58.137432</td>\n",
       "      <td>-91.382103</td>\n",
       "    </tr>\n",
       "    <tr>\n",
       "      <th>98</th>\n",
       "      <td>sample_098</td>\n",
       "      <td>None</td>\n",
       "      <td>2</td>\n",
       "      <td>NaN</td>\n",
       "      <td>NaN</td>\n",
       "    </tr>\n",
       "    <tr>\n",
       "      <th>99</th>\n",
       "      <td>sample_099</td>\n",
       "      <td>[0.6432390160611176, 0.01306733553828426, 0.07...</td>\n",
       "      <td>0</td>\n",
       "      <td>36.681286</td>\n",
       "      <td>-133.245743</td>\n",
       "    </tr>\n",
       "  </tbody>\n",
       "</table>\n",
       "<p>100 rows × 5 columns</p>\n",
       "</div>"
      ],
      "text/plain": [
       "   UMAP_STRING                                  SIGLIP2_EMBEDDING  TRUE_CLASS  \\\n",
       "0   sample_000  [0.6795859780036209, -0.004584270416856178, 0....           0   \n",
       "1   sample_001  [-0.008174736839000343, 0.6531781478232194, -0...           1   \n",
       "2   sample_002  [0.05664860337674388, 0.014307675162646563, 0....           2   \n",
       "3   sample_003  [0.6755409050941726, -0.017542567150579468, -0...           0   \n",
       "4   sample_004  [-0.010970589331781846, 0.6743454796950383, 0....           1   \n",
       "..         ...                                                ...         ...   \n",
       "95  sample_095  [0.016509760311369505, 0.07018766869585488, 0....           2   \n",
       "96  sample_096  [0.6509184997842212, 0.05319906867220145, 0.09...           0   \n",
       "97  sample_097  [-0.0033778699452754963, 0.6728101139771316, -...           1   \n",
       "98  sample_098                                               None           2   \n",
       "99  sample_099  [0.6432390160611176, 0.01306733553828426, 0.07...           0   \n",
       "\n",
       "    SIGLIP2_UMAP2D_HAVERSINE_LATITUDE  SIGLIP2_UMAP2D_HAVERSINE_LONGITUDE  \n",
       "0                          102.929932                         -163.864410  \n",
       "1                          -53.923054                          -88.695717  \n",
       "2                           25.299929                          -34.922928  \n",
       "3                          105.720787                         -146.427612  \n",
       "4                         -107.524231                          -67.005424  \n",
       "..                                ...                                 ...  \n",
       "95                          69.194824                          -60.390358  \n",
       "96                          89.433876                         -135.100739  \n",
       "97                         -58.137432                          -91.382103  \n",
       "98                                NaN                                 NaN  \n",
       "99                          36.681286                         -133.245743  \n",
       "\n",
       "[100 rows x 5 columns]"
      ]
     },
     "execution_count": 4,
     "metadata": {},
     "output_type": "execute_result"
    }
   ],
   "source": [
    "e"
   ]
  },
  {
   "cell_type": "code",
   "execution_count": 7,
   "id": "68177d5e",
   "metadata": {},
   "outputs": [
    {
     "data": {
      "application/vnd.plotly.v1+json": {
       "config": {
        "plotlyServerURL": "https://plot.ly"
       },
       "data": [
        {
         "hovertemplate": "SIGLIP2_UMAP2D_HAVERSINE_LATITUDE=%{x}<br>SIGLIP2_UMAP2D_HAVERSINE_LONGITUDE=%{y}<br>TRUE_CLASS=%{marker.color}<extra></extra>",
         "legendgroup": "",
         "marker": {
          "color": {
           "bdata": "AAECAAECAAECAAECAAECAAECAAECAAECAAECAAECAAECAAECAAECAAECAAECAAECAAECAAECAAECAAECAAECAAECAAECAAECAAECAAECAAECAAECAAECAAECAAECAAECAAECAA==",
           "dtype": "i1"
          },
          "coloraxis": "coloraxis",
          "symbol": "circle"
         },
         "mode": "markers",
         "name": "",
         "orientation": "v",
         "showlegend": false,
         "type": "scatter",
         "x": {
          "bdata": "AAAAAIS7WUAAAACgJvZKwAAAACDITDlAAAAAYCFuWkAAAAAAjeFawAAAAOBW509AAAAAQFo4ZUAAAACAwMtRwAAAAEDumlpAAAAAACrARsAAAADAWnBgwAAAAIDfpmNAAAAAQFbRYMAAAACgrsNZwAAAAMBKuURAAAAAIIQ8UEAAAACA6GhgwAAAAKAXy1ZAAAAA4KS9YkAAAACgJhlfwAAAAKBDTElAAAAAIO+vY0AAAABApIlWwAAAACCCi19AAAAAQAXFWcAAAABgqbNXwAAAAEBrqVZAAAAAAAAA+H8AAADgV0pZwAAAAAB2M0dAAAAAwGxTWEAAAABAb7RXwAAAAOA78FdAAAAAoNs9VEAAAABgmVtfwAAAAODpaldAAAAAwGdYZMAAAAAA4xhXwAAAAKDqYV5AAAAAQPgDDsAAAABA/OVVwAAAAOAEvGBAAAAAAM8gNkAAAACgS/JPwAAAAAAAAPh/AAAAQKuTCkAAAACAnF1WwAAAAMCCvVRAAAAAQAI5VEAAAAAAH/NIwAAAACCxL1xAAAAAYPCNUUAAAABAvyFWwAAAAMC9/xVAAAAAYFs0PsAAAABg5WRZwAAAAMBCZVRAAAAAAObZXUAAAACgKv9RwAAAAAAAAPh/AAAA4Iy1SkAAAADAaHVewAAAAADS1F9AAAAA4ETlYUAAAAAADHRFwAAAACA4c1BAAAAA4Bl0M0AAAADgMSdgwAAAAAAgGBPAAAAAoN2bO0AAAABgmaFSwAAAAODBwV1AAAAAAAAA+H8AAAAA/epVwAAAAABqmkpAAAAAYD1qY8AAAAAAwTJUwAAAAODtXmJAAAAAwA46YcAAAAAgYtRRwAAAAECjEEZAAAAAQIZMMsAAAABgEipdwAAAAGA0m2JAAAAAIIeSX0AAAADgzEVOwAAAAKDAFVdAAAAAYAI5YkAAAACgG69KwAAAAOAmS0JAAAAAwCxVZkAAAACgHT1fwAAAAKCTSFdAAAAAQDLnY0AAAACgI7hfwAAAAAB4TFFAAAAAoMRbVkAAAABglxFNwAAAAAAAAPh/AAAAYDRXQkA=",
          "dtype": "f8"
         },
         "xaxis": "x",
         "y": {
          "bdata": "AAAAQKl7ZMAAAACghixWwAAAAIAidkHAAAAAAK9NYsAAAADgWMBQwAAAAIBZmUvAAAAAIGKWYsAAAABA4VxawAAAAIA5glLAAAAAIKJaY8AAAADgbfdQwAAAAACHCUDAAAAAAKJsZcAAAADgrNJVwAAAACAnP0jAAAAAANlWYMAAAADgCYlTwAAAAGAGnkPAAAAAwHAVYcAAAACgiPFPwAAAACB6HjnAAAAAIFe+ZMAAAADAqKVVwAAAAKBPbz3AAAAAgGOGZMAAAADAb1FcwAAAAMB0iE/AAAAAAAAA+H8AAAAgdPZBwAAAAIDyKU/AAAAAAMWiZcAAAAAA1RNVwAAAAODkHSnAAAAAIJHyYsAAAAAAohlLwAAAAMAHrzzAAAAAQFBPYsAAAADgk7JZwAAAAICq1UfAAAAAIHvxYsAAAABAO2VYwAAAAIAtp0vAAAAAwCnZYcAAAADAKYRNwAAAAAAAAPh/AAAAYD3LYMAAAAAgd5NMwAAAAKAValHAAAAA4Ch3ZsAAAADAzlJSwAAAAIC/gVHAAAAAQCuQYMAAAACABxVKwAAAAKAGKj/AAAAAIKMFY8AAAABA/3BEwAAAAACMZkbAAAAAoHLxYsAAAACAF0VUwAAAAAAAAPh/AAAAoOiZYcAAAAAAI0xCwAAAAGDcqEzAAAAAYKoVYMAAAAAADwVTwAAAAKB98ELAAAAAYAMiZMAAAACgBmVNwAAAAMD2TTbAAAAAIJRQYsAAAABghkNUwAAAAMBhPVLAAAAAAAAA+H8AAABgh+NRwAAAAICDdEfAAAAAgJSzYcAAAABgYOBQwAAAAEAZ8EPAAAAA4KluYsAAAACAXJhbwAAAAMDaYAzAAAAAwJkeZMAAAADAl8VZwAAAAOAgq0bAAAAAIPPgYMAAAACAvURLwAAAAOD8Bj7AAAAAQJtKYcAAAADAYOZXwAAAAABS4k3AAAAAAFjHY8AAAAAAcB1WwAAAAEC4d03AAAAAIDWtX8AAAAAAqkBZwAAAAED3MU7AAAAAQDnjYMAAAABgdNhWwAAAAAAAAPh/AAAAIN2nYMA=",
          "dtype": "f8"
         },
         "yaxis": "y"
        }
       ],
       "layout": {
        "coloraxis": {
         "colorbar": {
          "title": {
           "text": "TRUE_CLASS"
          }
         },
         "colorscale": [
          [
           0,
           "#0d0887"
          ],
          [
           0.1111111111111111,
           "#46039f"
          ],
          [
           0.2222222222222222,
           "#7201a8"
          ],
          [
           0.3333333333333333,
           "#9c179e"
          ],
          [
           0.4444444444444444,
           "#bd3786"
          ],
          [
           0.5555555555555556,
           "#d8576b"
          ],
          [
           0.6666666666666666,
           "#ed7953"
          ],
          [
           0.7777777777777778,
           "#fb9f3a"
          ],
          [
           0.8888888888888888,
           "#fdca26"
          ],
          [
           1,
           "#f0f921"
          ]
         ]
        },
        "legend": {
         "tracegroupgap": 0
        },
        "margin": {
         "t": 60
        },
        "template": {
         "data": {
          "bar": [
           {
            "error_x": {
             "color": "#2a3f5f"
            },
            "error_y": {
             "color": "#2a3f5f"
            },
            "marker": {
             "line": {
              "color": "#E5ECF6",
              "width": 0.5
             },
             "pattern": {
              "fillmode": "overlay",
              "size": 10,
              "solidity": 0.2
             }
            },
            "type": "bar"
           }
          ],
          "barpolar": [
           {
            "marker": {
             "line": {
              "color": "#E5ECF6",
              "width": 0.5
             },
             "pattern": {
              "fillmode": "overlay",
              "size": 10,
              "solidity": 0.2
             }
            },
            "type": "barpolar"
           }
          ],
          "carpet": [
           {
            "aaxis": {
             "endlinecolor": "#2a3f5f",
             "gridcolor": "white",
             "linecolor": "white",
             "minorgridcolor": "white",
             "startlinecolor": "#2a3f5f"
            },
            "baxis": {
             "endlinecolor": "#2a3f5f",
             "gridcolor": "white",
             "linecolor": "white",
             "minorgridcolor": "white",
             "startlinecolor": "#2a3f5f"
            },
            "type": "carpet"
           }
          ],
          "choropleth": [
           {
            "colorbar": {
             "outlinewidth": 0,
             "ticks": ""
            },
            "type": "choropleth"
           }
          ],
          "contour": [
           {
            "colorbar": {
             "outlinewidth": 0,
             "ticks": ""
            },
            "colorscale": [
             [
              0,
              "#0d0887"
             ],
             [
              0.1111111111111111,
              "#46039f"
             ],
             [
              0.2222222222222222,
              "#7201a8"
             ],
             [
              0.3333333333333333,
              "#9c179e"
             ],
             [
              0.4444444444444444,
              "#bd3786"
             ],
             [
              0.5555555555555556,
              "#d8576b"
             ],
             [
              0.6666666666666666,
              "#ed7953"
             ],
             [
              0.7777777777777778,
              "#fb9f3a"
             ],
             [
              0.8888888888888888,
              "#fdca26"
             ],
             [
              1,
              "#f0f921"
             ]
            ],
            "type": "contour"
           }
          ],
          "contourcarpet": [
           {
            "colorbar": {
             "outlinewidth": 0,
             "ticks": ""
            },
            "type": "contourcarpet"
           }
          ],
          "heatmap": [
           {
            "colorbar": {
             "outlinewidth": 0,
             "ticks": ""
            },
            "colorscale": [
             [
              0,
              "#0d0887"
             ],
             [
              0.1111111111111111,
              "#46039f"
             ],
             [
              0.2222222222222222,
              "#7201a8"
             ],
             [
              0.3333333333333333,
              "#9c179e"
             ],
             [
              0.4444444444444444,
              "#bd3786"
             ],
             [
              0.5555555555555556,
              "#d8576b"
             ],
             [
              0.6666666666666666,
              "#ed7953"
             ],
             [
              0.7777777777777778,
              "#fb9f3a"
             ],
             [
              0.8888888888888888,
              "#fdca26"
             ],
             [
              1,
              "#f0f921"
             ]
            ],
            "type": "heatmap"
           }
          ],
          "histogram": [
           {
            "marker": {
             "pattern": {
              "fillmode": "overlay",
              "size": 10,
              "solidity": 0.2
             }
            },
            "type": "histogram"
           }
          ],
          "histogram2d": [
           {
            "colorbar": {
             "outlinewidth": 0,
             "ticks": ""
            },
            "colorscale": [
             [
              0,
              "#0d0887"
             ],
             [
              0.1111111111111111,
              "#46039f"
             ],
             [
              0.2222222222222222,
              "#7201a8"
             ],
             [
              0.3333333333333333,
              "#9c179e"
             ],
             [
              0.4444444444444444,
              "#bd3786"
             ],
             [
              0.5555555555555556,
              "#d8576b"
             ],
             [
              0.6666666666666666,
              "#ed7953"
             ],
             [
              0.7777777777777778,
              "#fb9f3a"
             ],
             [
              0.8888888888888888,
              "#fdca26"
             ],
             [
              1,
              "#f0f921"
             ]
            ],
            "type": "histogram2d"
           }
          ],
          "histogram2dcontour": [
           {
            "colorbar": {
             "outlinewidth": 0,
             "ticks": ""
            },
            "colorscale": [
             [
              0,
              "#0d0887"
             ],
             [
              0.1111111111111111,
              "#46039f"
             ],
             [
              0.2222222222222222,
              "#7201a8"
             ],
             [
              0.3333333333333333,
              "#9c179e"
             ],
             [
              0.4444444444444444,
              "#bd3786"
             ],
             [
              0.5555555555555556,
              "#d8576b"
             ],
             [
              0.6666666666666666,
              "#ed7953"
             ],
             [
              0.7777777777777778,
              "#fb9f3a"
             ],
             [
              0.8888888888888888,
              "#fdca26"
             ],
             [
              1,
              "#f0f921"
             ]
            ],
            "type": "histogram2dcontour"
           }
          ],
          "mesh3d": [
           {
            "colorbar": {
             "outlinewidth": 0,
             "ticks": ""
            },
            "type": "mesh3d"
           }
          ],
          "parcoords": [
           {
            "line": {
             "colorbar": {
              "outlinewidth": 0,
              "ticks": ""
             }
            },
            "type": "parcoords"
           }
          ],
          "pie": [
           {
            "automargin": true,
            "type": "pie"
           }
          ],
          "scatter": [
           {
            "fillpattern": {
             "fillmode": "overlay",
             "size": 10,
             "solidity": 0.2
            },
            "type": "scatter"
           }
          ],
          "scatter3d": [
           {
            "line": {
             "colorbar": {
              "outlinewidth": 0,
              "ticks": ""
             }
            },
            "marker": {
             "colorbar": {
              "outlinewidth": 0,
              "ticks": ""
             }
            },
            "type": "scatter3d"
           }
          ],
          "scattercarpet": [
           {
            "marker": {
             "colorbar": {
              "outlinewidth": 0,
              "ticks": ""
             }
            },
            "type": "scattercarpet"
           }
          ],
          "scattergeo": [
           {
            "marker": {
             "colorbar": {
              "outlinewidth": 0,
              "ticks": ""
             }
            },
            "type": "scattergeo"
           }
          ],
          "scattergl": [
           {
            "marker": {
             "colorbar": {
              "outlinewidth": 0,
              "ticks": ""
             }
            },
            "type": "scattergl"
           }
          ],
          "scattermap": [
           {
            "marker": {
             "colorbar": {
              "outlinewidth": 0,
              "ticks": ""
             }
            },
            "type": "scattermap"
           }
          ],
          "scattermapbox": [
           {
            "marker": {
             "colorbar": {
              "outlinewidth": 0,
              "ticks": ""
             }
            },
            "type": "scattermapbox"
           }
          ],
          "scatterpolar": [
           {
            "marker": {
             "colorbar": {
              "outlinewidth": 0,
              "ticks": ""
             }
            },
            "type": "scatterpolar"
           }
          ],
          "scatterpolargl": [
           {
            "marker": {
             "colorbar": {
              "outlinewidth": 0,
              "ticks": ""
             }
            },
            "type": "scatterpolargl"
           }
          ],
          "scatterternary": [
           {
            "marker": {
             "colorbar": {
              "outlinewidth": 0,
              "ticks": ""
             }
            },
            "type": "scatterternary"
           }
          ],
          "surface": [
           {
            "colorbar": {
             "outlinewidth": 0,
             "ticks": ""
            },
            "colorscale": [
             [
              0,
              "#0d0887"
             ],
             [
              0.1111111111111111,
              "#46039f"
             ],
             [
              0.2222222222222222,
              "#7201a8"
             ],
             [
              0.3333333333333333,
              "#9c179e"
             ],
             [
              0.4444444444444444,
              "#bd3786"
             ],
             [
              0.5555555555555556,
              "#d8576b"
             ],
             [
              0.6666666666666666,
              "#ed7953"
             ],
             [
              0.7777777777777778,
              "#fb9f3a"
             ],
             [
              0.8888888888888888,
              "#fdca26"
             ],
             [
              1,
              "#f0f921"
             ]
            ],
            "type": "surface"
           }
          ],
          "table": [
           {
            "cells": {
             "fill": {
              "color": "#EBF0F8"
             },
             "line": {
              "color": "white"
             }
            },
            "header": {
             "fill": {
              "color": "#C8D4E3"
             },
             "line": {
              "color": "white"
             }
            },
            "type": "table"
           }
          ]
         },
         "layout": {
          "annotationdefaults": {
           "arrowcolor": "#2a3f5f",
           "arrowhead": 0,
           "arrowwidth": 1
          },
          "autotypenumbers": "strict",
          "coloraxis": {
           "colorbar": {
            "outlinewidth": 0,
            "ticks": ""
           }
          },
          "colorscale": {
           "diverging": [
            [
             0,
             "#8e0152"
            ],
            [
             0.1,
             "#c51b7d"
            ],
            [
             0.2,
             "#de77ae"
            ],
            [
             0.3,
             "#f1b6da"
            ],
            [
             0.4,
             "#fde0ef"
            ],
            [
             0.5,
             "#f7f7f7"
            ],
            [
             0.6,
             "#e6f5d0"
            ],
            [
             0.7,
             "#b8e186"
            ],
            [
             0.8,
             "#7fbc41"
            ],
            [
             0.9,
             "#4d9221"
            ],
            [
             1,
             "#276419"
            ]
           ],
           "sequential": [
            [
             0,
             "#0d0887"
            ],
            [
             0.1111111111111111,
             "#46039f"
            ],
            [
             0.2222222222222222,
             "#7201a8"
            ],
            [
             0.3333333333333333,
             "#9c179e"
            ],
            [
             0.4444444444444444,
             "#bd3786"
            ],
            [
             0.5555555555555556,
             "#d8576b"
            ],
            [
             0.6666666666666666,
             "#ed7953"
            ],
            [
             0.7777777777777778,
             "#fb9f3a"
            ],
            [
             0.8888888888888888,
             "#fdca26"
            ],
            [
             1,
             "#f0f921"
            ]
           ],
           "sequentialminus": [
            [
             0,
             "#0d0887"
            ],
            [
             0.1111111111111111,
             "#46039f"
            ],
            [
             0.2222222222222222,
             "#7201a8"
            ],
            [
             0.3333333333333333,
             "#9c179e"
            ],
            [
             0.4444444444444444,
             "#bd3786"
            ],
            [
             0.5555555555555556,
             "#d8576b"
            ],
            [
             0.6666666666666666,
             "#ed7953"
            ],
            [
             0.7777777777777778,
             "#fb9f3a"
            ],
            [
             0.8888888888888888,
             "#fdca26"
            ],
            [
             1,
             "#f0f921"
            ]
           ]
          },
          "colorway": [
           "#636efa",
           "#EF553B",
           "#00cc96",
           "#ab63fa",
           "#FFA15A",
           "#19d3f3",
           "#FF6692",
           "#B6E880",
           "#FF97FF",
           "#FECB52"
          ],
          "font": {
           "color": "#2a3f5f"
          },
          "geo": {
           "bgcolor": "white",
           "lakecolor": "white",
           "landcolor": "#E5ECF6",
           "showlakes": true,
           "showland": true,
           "subunitcolor": "white"
          },
          "hoverlabel": {
           "align": "left"
          },
          "hovermode": "closest",
          "mapbox": {
           "style": "light"
          },
          "paper_bgcolor": "white",
          "plot_bgcolor": "#E5ECF6",
          "polar": {
           "angularaxis": {
            "gridcolor": "white",
            "linecolor": "white",
            "ticks": ""
           },
           "bgcolor": "#E5ECF6",
           "radialaxis": {
            "gridcolor": "white",
            "linecolor": "white",
            "ticks": ""
           }
          },
          "scene": {
           "xaxis": {
            "backgroundcolor": "#E5ECF6",
            "gridcolor": "white",
            "gridwidth": 2,
            "linecolor": "white",
            "showbackground": true,
            "ticks": "",
            "zerolinecolor": "white"
           },
           "yaxis": {
            "backgroundcolor": "#E5ECF6",
            "gridcolor": "white",
            "gridwidth": 2,
            "linecolor": "white",
            "showbackground": true,
            "ticks": "",
            "zerolinecolor": "white"
           },
           "zaxis": {
            "backgroundcolor": "#E5ECF6",
            "gridcolor": "white",
            "gridwidth": 2,
            "linecolor": "white",
            "showbackground": true,
            "ticks": "",
            "zerolinecolor": "white"
           }
          },
          "shapedefaults": {
           "line": {
            "color": "#2a3f5f"
           }
          },
          "ternary": {
           "aaxis": {
            "gridcolor": "white",
            "linecolor": "white",
            "ticks": ""
           },
           "baxis": {
            "gridcolor": "white",
            "linecolor": "white",
            "ticks": ""
           },
           "bgcolor": "#E5ECF6",
           "caxis": {
            "gridcolor": "white",
            "linecolor": "white",
            "ticks": ""
           }
          },
          "title": {
           "x": 0.05
          },
          "xaxis": {
           "automargin": true,
           "gridcolor": "white",
           "linecolor": "white",
           "ticks": "",
           "title": {
            "standoff": 15
           },
           "zerolinecolor": "white",
           "zerolinewidth": 2
          },
          "yaxis": {
           "automargin": true,
           "gridcolor": "white",
           "linecolor": "white",
           "ticks": "",
           "title": {
            "standoff": 15
           },
           "zerolinecolor": "white",
           "zerolinewidth": 2
          }
         }
        },
        "xaxis": {
         "anchor": "y",
         "domain": [
          0,
          1
         ],
         "title": {
          "text": "SIGLIP2_UMAP2D_HAVERSINE_LATITUDE"
         }
        },
        "yaxis": {
         "anchor": "x",
         "domain": [
          0,
          1
         ],
         "title": {
          "text": "SIGLIP2_UMAP2D_HAVERSINE_LONGITUDE"
         }
        }
       }
      }
     },
     "metadata": {},
     "output_type": "display_data"
    }
   ],
   "source": [
    "px.scatter(e, x=\"SIGLIP2_UMAP2D_HAVERSINE_LATITUDE\", y=\"SIGLIP2_UMAP2D_HAVERSINE_LONGITUDE\", color=\"TRUE_CLASS\")"
   ]
  },
  {
   "cell_type": "code",
   "execution_count": null,
   "id": "163d2fed",
   "metadata": {},
   "outputs": [],
   "source": []
  }
 ],
 "metadata": {
  "kernelspec": {
   "display_name": ".venv",
   "language": "python",
   "name": "python3"
  },
  "language_info": {
   "codemirror_mode": {
    "name": "ipython",
    "version": 3
   },
   "file_extension": ".py",
   "mimetype": "text/x-python",
   "name": "python",
   "nbconvert_exporter": "python",
   "pygments_lexer": "ipython3",
   "version": "3.11.13"
  }
 },
 "nbformat": 4,
 "nbformat_minor": 5
}

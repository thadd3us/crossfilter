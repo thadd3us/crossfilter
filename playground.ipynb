{
 "cells": [
  {
   "cell_type": "code",
   "execution_count": null,
   "id": "1965e0b2",
   "metadata": {},
   "outputs": [],
   "source": [
    "import pandas as pd\n",
    "\n",
    "import plotly.express as px\n",
    "from pathlib import Path\n",
    "\n",
    "from crossfilter.data_ingestion.lightroom import lightroom_parser\n",
    "\n",
    "from crossfilter.data_ingestion.lightroom.ingest_lightroom_catalogs import (\n",
    "    find_lightroom_catalogs,\n",
    "    main,\n",
    "    load_clip_embeddings_from_sqlite,\n",
    "    compute_umap_projection,\n",
    ")\n",
    "import sqlite3\n",
    "import msgpack_numpy as msgpack\n",
    "import logging\n",
    "from crossfilter.core.schema import SchemaColumns as C\n",
    "\n",
    "logger = logging.getLogger(__name__)\n",
    "\n",
    "import umap"
   ]
  },
  {
   "cell_type": "code",
   "execution_count": null,
   "id": "a638b4b5",
   "metadata": {},
   "outputs": [],
   "source": [
    "def timestamp_str_to_tz(timestamp_str: str | None) -> pd.Timestamp | None:\n",
    "    \"\"\"Convert timestamp string to UTC, handling various timezone formats.\"\"\"\n",
    "    if pd.isna(timestamp_str) or timestamp_str is None:\n",
    "        return pd.NaT\n",
    "\n",
    "    try:\n",
    "        # Parse with pandas, which handles ISO8601 formats including timezones\n",
    "        parsed = pd.to_datetime(timestamp_str, format=\"ISO8601\")\n",
    "        return parsed.tz\n",
    "    except (ValueError, TypeError, pd.errors.OutOfBoundsDatetime) as e:\n",
    "        logger.warning(f\"Failed to parse timestamp '{timestamp_str}': {e}\")\n",
    "        return pd.NaT"
   ]
  },
  {
   "cell_type": "code",
   "execution_count": null,
   "id": "be37c6ec",
   "metadata": {},
   "outputs": [],
   "source": [
    "catalog_path = Path(\"/Users/thad/personal/lightroom/Lightroom Catalog-v13-3.lrcat\")\n",
    "df = lightroom_parser.parse_lightroom_catalog(catalog_path=catalog_path)"
   ]
  },
  {
   "cell_type": "code",
   "execution_count": null,
   "id": "bdaa4b7a",
   "metadata": {},
   "outputs": [],
   "source": [
    "df[\"TIMESTAMP_MAYBE_TIMEZONE_AWARE\"]"
   ]
  },
  {
   "cell_type": "code",
   "execution_count": null,
   "id": "ad102058",
   "metadata": {},
   "outputs": [],
   "source": [
    "df[\"tz\"] = df[C.TIMESTAMP_MAYBE_TIMEZONE_AWARE].map(timestamp_str_to_tz)"
   ]
  },
  {
   "cell_type": "code",
   "execution_count": null,
   "id": "dec544d8",
   "metadata": {},
   "outputs": [],
   "source": [
    "df[\"tz\"].value_counts(dropna=False).index[1]"
   ]
  },
  {
   "cell_type": "code",
   "execution_count": null,
   "id": "73483201",
   "metadata": {},
   "outputs": [],
   "source": []
  },
  {
   "cell_type": "code",
   "execution_count": null,
   "id": "5a86193a",
   "metadata": {},
   "outputs": [],
   "source": [
    "import datetime\n",
    "\n",
    "\n",
    "df[df[\"tz\"] == datetime.timezone(datetime.timedelta(days=-1, seconds=61200))]"
   ]
  },
  {
   "cell_type": "code",
   "execution_count": null,
   "id": "c16ef32f",
   "metadata": {},
   "outputs": [],
   "source": [
    "db_path = Path(\"/Users/thad/personal/lightroom_embedding_vectors.sqlite\")"
   ]
  },
  {
   "cell_type": "code",
   "execution_count": null,
   "id": "595abbeb",
   "metadata": {},
   "outputs": [],
   "source": [
    "# with sqlite3.connect(db_path) as conn:\n",
    "#         # Load embeddings table\n",
    "#         df = pd.read_sql(\n",
    "#             \"\"\"SELECT * FROM embeddings WHERE type_index = \"CLIP_HF_EMBEDDINGS\" \"\"\", conn\n",
    "#         )\n",
    "\n",
    "\n",
    "# msgpack.unpackb(df[\"embedding_msgpack\"].iloc[0])"
   ]
  },
  {
   "cell_type": "code",
   "execution_count": null,
   "id": "935c7823",
   "metadata": {},
   "outputs": [],
   "source": [
    "df = load_clip_embeddings_from_sqlite(db_path)\n",
    "\n",
    "df.head()"
   ]
  },
  {
   "cell_type": "code",
   "execution_count": null,
   "id": "6418d0ac",
   "metadata": {},
   "outputs": [],
   "source": [
    "new_df = compute_umap_projection(df)"
   ]
  },
  {
   "cell_type": "code",
   "execution_count": null,
   "id": "9cb086bf",
   "metadata": {},
   "outputs": [],
   "source": [
    "new_df"
   ]
  },
  {
   "cell_type": "code",
   "execution_count": null,
   "id": "eda21a44",
   "metadata": {},
   "outputs": [],
   "source": [
    "fig = px.scatter_map(\n",
    "    new_df[0],\n",
    "    lat=\"CLIP_UMAP_HAVERSINE_LONGITUDE\",\n",
    "    lon=\"CLIP_UMAP_HAVERSINE_LATITUDE\",\n",
    "    map_style=\"open-street-map\",\n",
    ")\n",
    "\n",
    "fig"
   ]
  },
  {
   "cell_type": "code",
   "execution_count": null,
   "id": "7ceef780",
   "metadata": {},
   "outputs": [],
   "source": []
  }
 ],
 "metadata": {
  "kernelspec": {
   "display_name": ".venv",
   "language": "python",
   "name": "python3"
  },
  "language_info": {
   "codemirror_mode": {
    "name": "ipython",
    "version": 3
   },
   "file_extension": ".py",
   "mimetype": "text/x-python",
   "name": "python",
   "nbconvert_exporter": "python",
   "pygments_lexer": "ipython3",
   "version": "3.13.4"
  }
 },
 "nbformat": 4,
 "nbformat_minor": 5
}
